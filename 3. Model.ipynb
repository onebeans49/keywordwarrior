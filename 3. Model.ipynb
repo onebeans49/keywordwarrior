{
 "cells": [
  {
   "cell_type": "markdown",
   "metadata": {},
   "source": [
    "# 데이터 로딩"
   ]
  },
  {
   "cell_type": "code",
   "execution_count": 6,
   "metadata": {},
   "outputs": [],
   "source": [
    "import warnings\n",
    "warnings.filterwarnings(\"ignore\")"
   ]
  },
  {
   "cell_type": "code",
   "execution_count": 16,
   "metadata": {},
   "outputs": [],
   "source": [
    "# Import Libraries\n",
    "import numpy as np\n",
    "import pandas as pd\n",
    "from sklearn.feature_extraction.text import TfidfVectorizer\n",
    "from sklearn.model_selection import train_test_split, GridSearchCV, cross_val_score\n",
    "from sklearn.linear_model import LogisticRegression\n",
    "\n",
    "# Read Data\n",
    "df_combined_all_new = pd.read_csv('C:\\/0815/game_rhino_fn.csv', index_col='Unnamed: 0')\n",
    "\n",
    "# Select Columns\n",
    "df_combined_all_filtered = df_combined_all_new[['content', 'score']]\n",
    "\n",
    "# Remove Unwanted Scores\n",
    "df_combined_all_filtered = df_combined_all_filtered[df_combined_all_filtered['score'] != 3]\n",
    "df_combined_all_filtered = df_combined_all_filtered[df_combined_all_filtered['score'] != 4]\n",
    "\n",
    "# Change Scores to Binary\n",
    "df_combined_all_filtered['score'] = df_combined_all_filtered['score'].apply(lambda x: -1 if x in [1, 2] else 1)\n",
    "\n",
    "# Drop Missing Values\n",
    "df_combined_all_filtered = df_combined_all_filtered.dropna(subset=['content', 'score'])\n",
    "\n",
    "# TF-IDF Transformation\n",
    "tfidf_vectorizer_all = TfidfVectorizer()\n",
    "X_balanced_all = tfidf_vectorizer_all.fit_transform(df_combined_all_filtered['content'])\n",
    "y_balanced_all = df_combined_all_filtered['score']\n",
    "\n",
    "# Train-Test Split with Stratified Sampling\n",
    "X_train_balanced_all, X_test_balanced_all, y_train_balanced_all, y_test_balanced_all = train_test_split(\n",
    "    X_balanced_all, y_balanced_all, test_size=0.2, random_state=42, stratify=y_balanced_all\n",
    ")"
   ]
  },
  {
   "cell_type": "markdown",
   "metadata": {},
   "source": [
    "# RandomForest"
   ]
  },
  {
   "cell_type": "code",
   "execution_count": 7,
   "metadata": {},
   "outputs": [],
   "source": [
    "# TF-IDF Transformation\n",
    "tfidf_vectorizer_rf = TfidfVectorizer(max_features= 13000, ngram_range= (1, 2))\n",
    "X_balanced_rf = tfidf_vectorizer_rf.fit_transform(df_combined_all_filtered['content'])\n",
    "y_balanced_rf = df_combined_all_filtered['score']\n",
    "\n",
    "# Train-Test Split with Stratified Sampling\n",
    "X_train_balanced_rf, X_test_balanced_rf, y_train_balanced_rf, y_test_balanced_rf = train_test_split(\n",
    "    X_balanced_rf, y_balanced_rf, test_size=0.2, random_state=42, stratify=y_balanced_rf\n",
    ")\n",
    "\n",
    "# TF-IDF 변환\n",
    "#X_new = tfidf_vectorizer_all.transform(df_combined_all_new['content'])\n",
    "\n",
    "# Sentiment 예측\n",
    "#df_combined_all_new['Sentiment'] = logistic_regression_balanced_all.predict(X_new)\n",
    "\n",
    "# 결과를 새로운 CSV 파일로 저장\n",
    "#df_combined_all_new.to_csv('C:\\/test99.csv', index=False)\n"
   ]
  },
  {
   "cell_type": "code",
   "execution_count": 8,
   "metadata": {},
   "outputs": [
    {
     "data": {
      "text/plain": [
       "RandomForestClassifier(bootstrap=True, class_weight=None, criterion='gini',\n",
       "                       max_depth=None, max_features='auto', max_leaf_nodes=None,\n",
       "                       min_impurity_decrease=0.0, min_impurity_split=None,\n",
       "                       min_samples_leaf=1, min_samples_split=5,\n",
       "                       min_weight_fraction_leaf=0.0, n_estimators=200,\n",
       "                       n_jobs=None, oob_score=False, random_state=None,\n",
       "                       verbose=0, warm_start=False)"
      ]
     },
     "execution_count": 8,
     "metadata": {},
     "output_type": "execute_result"
    }
   ],
   "source": [
    "from sklearn.ensemble import RandomForestClassifier\n",
    "\n",
    "rf = RandomForestClassifier(max_depth= None, min_samples_leaf= 1, min_samples_split= 5, n_estimators= 200)\n",
    "\n",
    "rf.fit(X_train_balanced_rf,y_train_balanced_rf)"
   ]
  },
  {
   "cell_type": "code",
   "execution_count": 11,
   "metadata": {},
   "outputs": [
    {
     "data": {
      "text/plain": [
       "0.888"
      ]
     },
     "execution_count": 11,
     "metadata": {},
     "output_type": "execute_result"
    }
   ],
   "source": [
    "#예측점수 확인\n",
    "round(rf.score(X_test_balanced_rf,y_test_balanced_rf),3)"
   ]
  },
  {
   "cell_type": "code",
   "execution_count": 12,
   "metadata": {},
   "outputs": [
    {
     "name": "stdout",
     "output_type": "stream",
     "text": [
      "랜덤 포레스트 교차검증 결과\n",
      "K-fold Cross Validation Scores: [0.87525635 0.89081395 0.86966054 0.89144272 0.87283401]\n",
      "Mean Accuracy: 0.880001510094953\n",
      "Standard Deviation: 0.009258891459467584\n"
     ]
    }
   ],
   "source": [
    "# K-fold 교차 검증 수행 (예: K=5)\n",
    "cv_scores_rf = cross_val_score(rf, X_balanced_rf, y_balanced_rf, cv=5)\n",
    "\n",
    "# 결과 출력\n",
    "print(\"랜덤 포레스트 교차검증 결과\")\n",
    "print(\"K-fold Cross Validation Scores:\", cv_scores_rf)\n",
    "print(\"Mean Accuracy:\", cv_scores_rf.mean())\n",
    "print(\"Standard Deviation:\", cv_scores_rf.std())"
   ]
  },
  {
   "cell_type": "code",
   "execution_count": 13,
   "metadata": {},
   "outputs": [
    {
     "name": "stdout",
     "output_type": "stream",
     "text": [
      "Confusion Matrix:\n",
      "[[3735  816]\n",
      " [ 763 8827]]\n",
      "Accuracy: 0.888\n",
      "오분류율: 0.112\n"
     ]
    }
   ],
   "source": [
    "from sklearn.metrics import confusion_matrix\n",
    "\n",
    "# rf_new 모델로 예측하기\n",
    "y_pred_rf = rf.predict(X_test_balanced_rf)\n",
    "\n",
    "# 혼동 행렬 계산\n",
    "conf_mat = confusion_matrix(y_test_balanced_rf, y_pred_rf)\n",
    "\n",
    "# 혼동 행렬에서 값을 추출\n",
    "TN, FP, FN, TP = conf_mat.ravel()\n",
    "\n",
    "# 정확도와 오분류율 계산\n",
    "accuracy = (TP + TN) / (TP + TN + FP + FN)\n",
    "misclassification_rate = 1 - accuracy\n",
    "\n",
    "# 결과 출력\n",
    "print(\"Confusion Matrix:\")\n",
    "print(conf_mat)\n",
    "print(\"Accuracy:\", round(accuracy,3))\n",
    "print(\"오분류율:\", round(misclassification_rate,3))"
   ]
  },
  {
   "cell_type": "code",
   "execution_count": 27,
   "metadata": {},
   "outputs": [
    {
     "name": "stdout",
     "output_type": "stream",
     "text": [
      "Precision: 0.915\n",
      "Recall: 0.92\n",
      "F1 score: 0.918\n"
     ]
    }
   ],
   "source": [
    "from sklearn.metrics import precision_score, accuracy_score\n",
    "from sklearn.metrics import recall_score\n",
    "from sklearn.metrics import f1_score\n",
    "\n",
    "y_pred_rf = rf.predict(X_test_balanced_rf)\n",
    "\n",
    "precision = precision_score(y_test_balanced_rf, y_pred_rf)\n",
    "print('Precision:', round(precision,3))\n",
    "recall = recall_score(y_test_balanced_rf, y_pred_rf)\n",
    "print('Recall:', round(recall,3))\n",
    "f1 = f1_score(y_test_balanced_rf, y_pred_rf)\n",
    "print('F1 score:', round(f1,3))"
   ]
  },
  {
   "cell_type": "code",
   "execution_count": 34,
   "metadata": {},
   "outputs": [
    {
     "data": {
      "image/png": "[encoded data removed]",
      "text/plain": [
       "<Figure size 432x288 with 1 Axes>"
      ]
     },
     "metadata": {
      "needs_background": "light"
     },
     "output_type": "display_data"
    },
    {
     "name": "stdout",
     "output_type": "stream",
     "text": [
      "AUC Score: 0.9349703934713727\n"
     ]
    }
   ],
   "source": [
    "import matplotlib.pyplot as plt\n",
    "from sklearn.metrics import roc_curve, roc_auc_score\n",
    "\n",
    "# 모델의 예측 확률을 계산합니다.\n",
    "y_pred_proba_rf = rf.predict_proba(X_test_balanced_rf)[:,1]\n",
    "\n",
    "# ROC 커브를 계산합니다.\n",
    "fpr, tpr, _ = roc_curve(y_test_balanced_rf, y_pred_proba_rf)\n",
    "\n",
    "# ROC 커브를 그립니다.\n",
    "plt.plot(fpr, tpr)\n",
    "plt.plot([0, 1], [0, 1], color='navy', linestyle='--')\n",
    "plt.xlim([0.0, 1.0])\n",
    "plt.ylim([0.0, 1.05])\n",
    "plt.xlabel('False Positive Rate')\n",
    "plt.ylabel('True Positive Rate')\n",
    "plt.title('MLP ROC Graph')\n",
    "plt.show()\n",
    "\n",
    "# AUC를 계산합니다.\n",
    "auc_score = roc_auc_score(y_test_balanced_rf, y_pred_proba_rf)\n",
    "print('AUC Score:', auc_score)\n"
   ]
  },
  {
   "cell_type": "markdown",
   "metadata": {},
   "source": [
    "# SVC"
   ]
  },
  {
   "cell_type": "code",
   "execution_count": 17,
   "metadata": {},
   "outputs": [
    {
     "data": {
      "text/plain": [
       "SVC(C=100, cache_size=200, class_weight=None, coef0=0.0,\n",
       "    decision_function_shape='ovr', degree=3, gamma='scale', kernel='rbf',\n",
       "    max_iter=-1, probability=True, random_state=None, shrinking=True, tol=0.001,\n",
       "    verbose=False)"
      ]
     },
     "execution_count": 17,
     "metadata": {},
     "output_type": "execute_result"
    }
   ],
   "source": [
    "from sklearn.svm import SVC\n",
    "svc = SVC(C= 100, gamma= 'scale', kernel= 'rbf',probability=True)\n",
    "svc.fit(X_train_balanced_all, y_train_balanced_all)"
   ]
  },
  {
   "cell_type": "code",
   "execution_count": 18,
   "metadata": {},
   "outputs": [
    {
     "data": {
      "text/plain": [
       "0.896"
      ]
     },
     "execution_count": 18,
     "metadata": {},
     "output_type": "execute_result"
    }
   ],
   "source": [
    "round(svc.score(X_test_balanced_all,y_test_balanced_all),3)"
   ]
  },
  {
   "cell_type": "code",
   "execution_count": 25,
   "metadata": {
    "collapsed": true
   },
   "outputs": [
    {
     "name": "stdout",
     "output_type": "stream",
     "text": [
      "랜덤 포레스트 교차검증 결과\n",
      "K-fold Cross Validation Scores: [0.87596351 0.8901775  0.87765205 0.89356436 0.87997737]\n",
      "Mean Accuracy: 0.8826607261823843\n",
      "Standard Deviation: 0.006928832185581343\n"
     ]
    }
   ],
   "source": [
    "# K-fold 교차 검증 수행 (예: K=5)\n",
    "cv_scores_svc = cross_val_score(svc, X_balanced_all, y_balanced_all, cv=5)\n",
    "\n",
    "# 결과 출력\n",
    "print(\"랜덤 포레스트 교차검증 결과\")\n",
    "print(\"K-fold Cross Validation Scores:\", cv_scores_svc)\n",
    "print(\"Mean Accuracy:\", cv_scores_logreg.mean())\n",
    "print(\"Standard Deviation:\", cv_scores_logreg.std())"
   ]
  },
  {
   "cell_type": "code",
   "execution_count": 49,
   "metadata": {},
   "outputs": [
    {
     "name": "stdout",
     "output_type": "stream",
     "text": [
      "SVC 교차검증 결과\n",
      "K-fold Cross Validation Scores: [0.87596351 0.8901775  0.87765205 0.89356436 0.87997737]\n",
      "Mean Accuracy: 0.8834669566670318\n",
      "Standard Deviation: 0.007060891094614308\n"
     ]
    }
   ],
   "source": [
    "\n",
    "# 결과 출력\n",
    "print(\"SVC 교차검증 결과\")\n",
    "print(\"K-fold Cross Validation Scores:\", cv_scores_svc)\n",
    "print(\"Mean Accuracy:\", cv_scores_svc.mean())\n",
    "print(\"Standard Deviation:\", cv_scores_svc.std())"
   ]
  },
  {
   "cell_type": "code",
   "execution_count": 32,
   "metadata": {},
   "outputs": [
    {
     "name": "stdout",
     "output_type": "stream",
     "text": [
      "Confusion Matrix:\n",
      "[[3725  826]\n",
      " [ 638 8952]]\n",
      "Accuracy: 0.896\n",
      "오분류율: 0.104\n"
     ]
    }
   ],
   "source": [
    "from sklearn.metrics import confusion_matrix\n",
    "\n",
    "# rf_new 모델로 예측하기\n",
    "y_pred_svc = svc.predict(X_test_balanced_all)\n",
    "\n",
    "# 혼동 행렬 계산\n",
    "conf_mat = confusion_matrix(y_test_balanced_all, y_pred_svc)\n",
    "\n",
    "# 혼동 행렬에서 값을 추출\n",
    "TN, FP, FN, TP = conf_mat.ravel()\n",
    "\n",
    "# 정확도와 오분류율 계산\n",
    "accuracy = (TP + TN) / (TP + TN + FP + FN)\n",
    "misclassification_rate = 1 - accuracy\n",
    "\n",
    "# 결과 출력\n",
    "print(\"Confusion Matrix:\")\n",
    "print(conf_mat)\n",
    "print(\"Accuracy:\", round(accuracy,3))\n",
    "print(\"오분류율:\", round(misclassification_rate,3))"
   ]
  },
  {
   "cell_type": "code",
   "execution_count": 33,
   "metadata": {},
   "outputs": [
    {
     "name": "stdout",
     "output_type": "stream",
     "text": [
      "precision: 0.916\n",
      "recall: 0.933\n",
      "f1 score: 0.924\n"
     ]
    }
   ],
   "source": [
    "# 평가지표 산출\n",
    "\n",
    "from sklearn.metrics import precision_score, accuracy_score\n",
    "from sklearn.metrics import recall_score\n",
    "from sklearn.metrics import f1_score\n",
    "\n",
    "precision_svc = precision_score(y_test_balanced_all, y_pred_svc)\n",
    "print('precision:', round(precision_svc,3))\n",
    "recall_svc = recall_score(y_test_balanced_all, y_pred_svc)\n",
    "print('recall:', round(recall_svc,3))\n",
    "f1_svc = f1_score(y_test_balanced_all, y_pred_svc)\n",
    "print('f1 score:', round(f1_svc,3))"
   ]
  },
  {
   "cell_type": "code",
   "execution_count": 35,
   "metadata": {},
   "outputs": [
    {
     "data": {
      "image/png": "[encoded data removed]",
      "text/plain": [
       "<Figure size 432x288 with 1 Axes>"
      ]
     },
     "metadata": {
      "needs_background": "light"
     },
     "output_type": "display_data"
    },
    {
     "name": "stdout",
     "output_type": "stream",
     "text": [
      "AUC Score: 0.9409907045833696\n"
     ]
    }
   ],
   "source": [
    "import matplotlib.pyplot as plt\n",
    "from sklearn.metrics import roc_curve, roc_auc_score\n",
    "\n",
    "# 모델의 예측 확률을 계산합니다.\n",
    "y_pred_proba_svc = svc.predict_proba(X_test_balanced_all)[:,1]\n",
    "\n",
    "# ROC 커브를 계산합니다.\n",
    "fpr, tpr, _ = roc_curve(y_test_balanced_all, y_pred_proba_svc)\n",
    "\n",
    "# ROC 커브를 그립니다.\n",
    "plt.plot(fpr, tpr)\n",
    "plt.plot([0, 1], [0, 1], color='navy', linestyle='--')\n",
    "plt.xlim([0.0, 1.0])\n",
    "plt.ylim([0.0, 1.05])\n",
    "plt.xlabel('False Positive Rate')\n",
    "plt.ylabel('True Positive Rate')\n",
    "plt.title('MLP ROC Graph')\n",
    "plt.show()\n",
    "\n",
    "# AUC를 계산합니다.\n",
    "auc_score = roc_auc_score(y_test_balanced_all, y_pred_proba_svc)\n",
    "print('AUC Score:', auc_score)\n"
   ]
  },
  {
   "cell_type": "markdown",
   "metadata": {},
   "source": [
    "# MLP"
   ]
  },
  {
   "cell_type": "code",
   "execution_count": 19,
   "metadata": {},
   "outputs": [
    {
     "data": {
      "text/plain": [
       "MLPClassifier(activation='relu', alpha=0.05, batch_size='auto', beta_1=0.9,\n",
       "              beta_2=0.999, early_stopping=False, epsilon=1e-08,\n",
       "              hidden_layer_sizes=(100,), learning_rate='adaptive',\n",
       "              learning_rate_init=0.001, max_iter=200, momentum=0.9,\n",
       "              n_iter_no_change=10, nesterovs_momentum=True, power_t=0.5,\n",
       "              random_state=None, shuffle=True, solver='adam', tol=0.0001,\n",
       "              validation_fraction=0.1, verbose=False, warm_start=False)"
      ]
     },
     "execution_count": 19,
     "metadata": {},
     "output_type": "execute_result"
    }
   ],
   "source": [
    "from sklearn.neural_network import MLPClassifier\n",
    "\n",
    "mlp = MLPClassifier(activation= 'relu', alpha= 0.05, hidden_layer_sizes=(100,), learning_rate= 'adaptive', solver= 'adam')\n",
    "mlp.fit(X_train_balanced_all, y_train_balanced_all)"
   ]
  },
  {
   "cell_type": "code",
   "execution_count": 20,
   "metadata": {},
   "outputs": [
    {
     "data": {
      "text/plain": [
       "0.964515558698727"
      ]
     },
     "execution_count": 20,
     "metadata": {},
     "output_type": "execute_result"
    }
   ],
   "source": [
    "mlp.score(X_train_balanced_all, y_train_balanced_all)"
   ]
  },
  {
   "cell_type": "code",
   "execution_count": 26,
   "metadata": {},
   "outputs": [
    {
     "name": "stdout",
     "output_type": "stream",
     "text": [
      "랜덤 포레스트 교차검증 결과\n",
      "K-fold Cross Validation Scores: [0.87384202 0.88642953 0.8791372  0.89335219 0.87431926]\n",
      "Mean Accuracy: 0.8826607261823843\n",
      "Standard Deviation: 0.006928832185581343\n"
     ]
    }
   ],
   "source": [
    "# K-fold 교차 검증 수행 (예: K=5)\n",
    "cv_scores_mlp = cross_val_score(mlp, X_balanced_all, y_balanced_all, cv=5)\n",
    "\n",
    "# 결과 출력\n",
    "print(\"랜덤 포레스트 교차검증 결과\")\n",
    "print(\"K-fold Cross Validation Scores:\", cv_scores_mlp)\n",
    "print(\"Mean Accuracy:\", cv_scores_mlp.mean())\n",
    "print(\"Standard Deviation:\", cv_scores_mlp.std())"
   ]
  },
  {
   "cell_type": "code",
   "execution_count": 51,
   "metadata": {},
   "outputs": [
    {
     "name": "stdout",
     "output_type": "stream",
     "text": [
      "K-fold Cross Validation Scores: [0.87384202 0.88642953 0.8791372  0.89335219 0.87431926]\n",
      "Mean Accuracy: 0.881416040278755\n",
      "Standard Deviation: 0.007490394231950657\n"
     ]
    }
   ],
   "source": [
    "print(\"K-fold Cross Validation Scores:\", cv_scores_mlp)\n",
    "print(\"Mean Accuracy:\", cv_scores_mlp.mean())\n",
    "print(\"Standard Deviation:\", cv_scores_mlp.std())"
   ]
  },
  {
   "cell_type": "code",
   "execution_count": 50,
   "metadata": {},
   "outputs": [
    {
     "name": "stdout",
     "output_type": "stream",
     "text": [
      "Confusion Matrix:\n",
      "[[3640  911]\n",
      " [ 572 9018]]\n",
      "Accuracy: 0.895\n",
      "오분류율: 0.105\n"
     ]
    }
   ],
   "source": [
    "from sklearn.metrics import confusion_matrix\n",
    "\n",
    "# rf_new 모델로 예측하기\n",
    "y_pred_mlp = mlp.predict(X_test_balanced_all)\n",
    "\n",
    "# 혼동 행렬 계산\n",
    "conf_mat = confusion_matrix(y_test_balanced_all, y_pred_mlp)\n",
    "\n",
    "# 혼동 행렬에서 값을 추출\n",
    "TN, FP, FN, TP = conf_mat.ravel()\n",
    "\n",
    "# 정확도와 오분류율 계산\n",
    "accuracy = (TP + TN) / (TP + TN + FP + FN)\n",
    "misclassification_rate = 1 - accuracy\n",
    "\n",
    "# 결과 출력\n",
    "print(\"Confusion Matrix:\")\n",
    "print(conf_mat)\n",
    "print(\"Accuracy:\", round(accuracy,3))\n",
    "print(\"오분류율:\", round(misclassification_rate,3))"
   ]
  },
  {
   "cell_type": "code",
   "execution_count": 39,
   "metadata": {},
   "outputs": [
    {
     "name": "stdout",
     "output_type": "stream",
     "text": [
      "precision: 0.908\n",
      "recall: 0.94\n",
      "f1 score: 0.924\n"
     ]
    }
   ],
   "source": [
    "# 평가지표 산출 \n",
    "\n",
    "from sklearn.metrics import precision_score, accuracy_score\n",
    "from sklearn.metrics import recall_score\n",
    "from sklearn.metrics import f1_score\n",
    "\n",
    "precision_mlp = precision_score(y_test_balanced_all, y_pred_mlp)\n",
    "print('precision:', round(precision_mlp,3))\n",
    "recall_mlp = recall_score(y_test_balanced_all, y_pred_mlp)\n",
    "print('recall:', round(recall_mlp,3))\n",
    "f1_mlp = f1_score(y_test_balanced_all, y_pred_mlp)\n",
    "print('f1 score:', round(f1_mlp,3))"
   ]
  },
  {
   "cell_type": "code",
   "execution_count": 40,
   "metadata": {},
   "outputs": [
    {
     "data": {
      "image/png": "[encoded data removed]",
      "text/plain": [
       "<Figure size 432x288 with 1 Axes>"
      ]
     },
     "metadata": {
      "needs_background": "light"
     },
     "output_type": "display_data"
    },
    {
     "name": "stdout",
     "output_type": "stream",
     "text": [
      "AUC Score: 0.9427169864235914\n"
     ]
    }
   ],
   "source": [
    "import matplotlib.pyplot as plt\n",
    "from sklearn.metrics import roc_curve, roc_auc_score\n",
    "\n",
    "# 모델의 예측 확률을 계산합니다.\n",
    "y_pred_proba_mlp = mlp.predict_proba(X_test_balanced_all)[:,1]\n",
    "\n",
    "# ROC 커브를 계산합니다.\n",
    "fpr, tpr, _ = roc_curve(y_test_balanced_all, y_pred_proba_mlp)\n",
    "\n",
    "# ROC 커브를 그립니다.\n",
    "plt.plot(fpr, tpr)\n",
    "plt.plot([0, 1], [0, 1], color='navy', linestyle='--')\n",
    "plt.xlim([0.0, 1.0])\n",
    "plt.ylim([0.0, 1.05])\n",
    "plt.xlabel('False Positive Rate')\n",
    "plt.ylabel('True Positive Rate')\n",
    "plt.title('MLP ROC Graph')\n",
    "plt.show()\n",
    "\n",
    "# AUC를 계산합니다.\n",
    "auc_score = roc_auc_score(y_test_balanced_all, y_pred_proba_mlp)\n",
    "print('AUC Score:', auc_score)\n"
   ]
  },
  {
   "cell_type": "markdown",
   "metadata": {},
   "source": [
    "# LogisticRegression"
   ]
  },
  {
   "cell_type": "code",
   "execution_count": 21,
   "metadata": {},
   "outputs": [],
   "source": [
    "# TF-IDF Transformation\n",
    "tfidf_vectorizer_logreg = TfidfVectorizer(max_features= 15000, ngram_range= (1, 2))\n",
    "X_balanced_logreg = tfidf_vectorizer_logreg.fit_transform(df_combined_all_filtered['content'])\n",
    "y_balanced_logreg = df_combined_all_filtered['score']\n",
    "\n",
    "# Train-Test Split with Stratified Sampling\n",
    "X_train_balanced_logreg, X_test_balanced_logreg, y_train_balanced_logreg, y_test_balanced_logreg = train_test_split(\n",
    "    X_balanced_logreg, y_balanced_logreg, test_size=0.2, random_state=42, stratify=y_balanced_logreg\n",
    ")\n"
   ]
  },
  {
   "cell_type": "code",
   "execution_count": 22,
   "metadata": {},
   "outputs": [
    {
     "data": {
      "text/plain": [
       "LogisticRegression(C=4.281332398719396, class_weight=None, dual=False,\n",
       "                   fit_intercept=True, intercept_scaling=1, l1_ratio=None,\n",
       "                   max_iter=100, multi_class='warn', n_jobs=None, penalty='l2',\n",
       "                   random_state=None, solver='newton-cg', tol=0.0001, verbose=0,\n",
       "                   warm_start=False)"
      ]
     },
     "execution_count": 22,
     "metadata": {},
     "output_type": "execute_result"
    }
   ],
   "source": [
    "from sklearn.linear_model import LogisticRegression\n",
    "\n",
    "logreg = LogisticRegression(C = 4.281332398719396, penalty = 'l2', solver = 'newton-cg')\n",
    "\n",
    "logreg.fit(X_train_balanced_logreg, y_train_balanced_logreg)"
   ]
  },
  {
   "cell_type": "code",
   "execution_count": 23,
   "metadata": {},
   "outputs": [
    {
     "data": {
      "text/plain": [
       "0.891"
      ]
     },
     "execution_count": 23,
     "metadata": {},
     "output_type": "execute_result"
    }
   ],
   "source": [
    "round(logreg.score(X_test_balanced_logreg,y_test_balanced_logreg),3)"
   ]
  },
  {
   "cell_type": "code",
   "execution_count": 24,
   "metadata": {},
   "outputs": [
    {
     "name": "stdout",
     "output_type": "stream",
     "text": [
      "랜덤 포레스트 교차검증 결과\n",
      "K-fold Cross Validation Scores: [0.87596351 0.8889046  0.87722772 0.89299859 0.87820921]\n",
      "Mean Accuracy: 0.8826607261823843\n",
      "Standard Deviation: 0.006928832185581343\n"
     ]
    }
   ],
   "source": [
    "# K-fold 교차 검증 수행 (예: K=5)\n",
    "cv_scores_logreg = cross_val_score(logreg, X_balanced_logreg, y_balanced_logreg, cv=5)\n",
    "\n",
    "# 결과 출력\n",
    "print(\"랜덤 포레스트 교차검증 결과\")\n",
    "print(\"K-fold Cross Validation Scores:\", cv_scores_logreg)\n",
    "print(\"Mean Accuracy:\", cv_scores_logreg.mean())\n",
    "print(\"Standard Deviation:\", cv_scores_logreg.std())"
   ]
  },
  {
   "cell_type": "code",
   "execution_count": 41,
   "metadata": {},
   "outputs": [
    {
     "name": "stdout",
     "output_type": "stream",
     "text": [
      "Confusion Matrix:\n",
      "[[3598  953]\n",
      " [ 590 9000]]\n",
      "Accuracy: 0.891\n",
      "오분류율: 0.109\n"
     ]
    }
   ],
   "source": [
    "from sklearn.metrics import confusion_matrix\n",
    "\n",
    "# rf_new 모델로 예측하기\n",
    "y_pred_logreg = logreg.predict(X_test_balanced_logreg)\n",
    "\n",
    "# 혼동 행렬 계산\n",
    "conf_mat = confusion_matrix(y_test_balanced_logreg, y_pred_logreg)\n",
    "\n",
    "# 혼동 행렬에서 값을 추출\n",
    "TN, FP, FN, TP = conf_mat.ravel()\n",
    "\n",
    "# 정확도와 오분류율 계산\n",
    "accuracy = (TP + TN) / (TP + TN + FP + FN)\n",
    "misclassification_rate = 1 - accuracy\n",
    "\n",
    "# 결과 출력\n",
    "print(\"Confusion Matrix:\")\n",
    "print(conf_mat)\n",
    "print(\"Accuracy:\", round(accuracy,3))\n",
    "print(\"오분류율:\", round(misclassification_rate,3))"
   ]
  },
  {
   "cell_type": "code",
   "execution_count": 42,
   "metadata": {},
   "outputs": [
    {
     "name": "stdout",
     "output_type": "stream",
     "text": [
      "Precision: 0.904\n",
      "Recall: 0.938\n",
      "F1 score: 0.921\n"
     ]
    }
   ],
   "source": [
    "from sklearn.metrics import precision_score, accuracy_score\n",
    "from sklearn.metrics import recall_score\n",
    "from sklearn.metrics import f1_score\n",
    "\n",
    "precision = precision_score(y_test_balanced_logreg, y_pred_logreg)\n",
    "print('Precision:', round(precision,3))\n",
    "recall = recall_score(y_test_balanced_logreg, y_pred_logreg)\n",
    "print('Recall:', round(recall,3))\n",
    "f1 = f1_score(y_test_balanced_logreg, y_pred_logreg)\n",
    "print('F1 score:', round(f1,3))"
   ]
  },
  {
   "cell_type": "code",
   "execution_count": 43,
   "metadata": {},
   "outputs": [
    {
     "data": {
      "image/png": "[encoded data removed]",
      "text/plain": [
       "<Figure size 432x288 with 1 Axes>"
      ]
     },
     "metadata": {
      "needs_background": "light"
     },
     "output_type": "display_data"
    },
    {
     "name": "stdout",
     "output_type": "stream",
     "text": [
      "AUC Score: 0.939640223911187\n"
     ]
    }
   ],
   "source": [
    "import matplotlib.pyplot as plt\n",
    "from sklearn.metrics import roc_curve, roc_auc_score\n",
    "\n",
    "# 모델의 예측 확률을 계산합니다.\n",
    "y_pred_proba_logreg = logreg.predict_proba(X_test_balanced_logreg)[:,1]\n",
    "\n",
    "# ROC 커브를 계산합니다.\n",
    "fpr, tpr, _ = roc_curve(y_test_balanced_logreg, y_pred_proba_logreg)\n",
    "\n",
    "# ROC 커브를 그립니다.\n",
    "plt.plot(fpr, tpr)\n",
    "plt.plot([0, 1], [0, 1], color='navy', linestyle='--')\n",
    "plt.xlim([0.0, 1.0])\n",
    "plt.ylim([0.0, 1.05])\n",
    "plt.xlabel('False Positive Rate')\n",
    "plt.ylabel('True Positive Rate')\n",
    "plt.title('MLP ROC Graph')\n",
    "plt.show()\n",
    "\n",
    "# AUC를 계산합니다.\n",
    "auc_score = roc_auc_score(y_test_balanced_logreg, y_pred_proba_logreg)\n",
    "print('AUC Score:', auc_score)\n"
   ]
  },
  {
   "cell_type": "code",
   "execution_count": 55,
   "metadata": {},
   "outputs": [
    {
     "data": {
      "text/plain": [
       "['C:\\\\/final/tfidf_rf']"
      ]
     },
     "execution_count": 55,
     "metadata": {},
     "output_type": "execute_result"
    }
   ],
   "source": [
    "from joblib import dump\n",
    "dump(svc, \"C:\\/final/svc.joblib\")\n",
    "dump(rf, \"C:\\/final/rf.joblib\")\n",
    "dump(mlp, 'C:\\/final/mlp.joblib')\n",
    "dump(logreg, 'C:\\/final/logreg.joblib')\n",
    "dump(tfidf_vectorizer_logreg, 'C:\\/final/tfidf_logreg')\n",
    "dump(tfidf_vectorizer_all,'C:\\/final/tfidf_all')\n",
    "dump(tfidf_vectorizer_rf, 'C:\\/final/tfidf_rf')"
   ]
  },
  {
   "cell_type": "code",
   "execution_count": null,
   "metadata": {},
   "outputs": [],
   "source": []
  }
 ],
 "metadata": {
  "kernelspec": {
   "display_name": "Python 3",
   "language": "python",
   "name": "python3"
  },
  "language_info": {
   "codemirror_mode": {
    "name": "ipython",
    "version": 3
   },
   "file_extension": ".py",
   "mimetype": "text/x-python",
   "name": "python",
   "nbconvert_exporter": "python",
   "pygments_lexer": "ipython3",
   "version": "3.7.4"
  }
 },
 "nbformat": 4,
 "nbformat_minor": 2
}
